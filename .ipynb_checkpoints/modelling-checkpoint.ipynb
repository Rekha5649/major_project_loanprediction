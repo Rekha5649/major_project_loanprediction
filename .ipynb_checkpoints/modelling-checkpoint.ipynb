{
 "cells": [
  {
   "cell_type": "code",
   "execution_count": null,
   "metadata": {
    "id": "TzLCdaNrsefJ"
   },
   "outputs": [],
   "source": [
    "# from google.colab import files\n",
    "\n",
    "# uploaded = files.upload()\n",
    "\n",
    "# for fn in uploaded.keys():\n",
    "#   print('User uploaded file \"{name}\" with length {length} bytes'.format(\n",
    "#       name=fn, length=len(uploaded[fn])))"
   ]
  },
  {
   "cell_type": "code",
   "execution_count": null,
   "metadata": {
    "id": "u8XIYzyjsicI"
   },
   "outputs": [],
   "source": [
    "# !mv \"/content/Lending_Club_Loan_approval_Optimization (1).csv\" \"/content/drive/MyDrive/major_project/data\"\n",
    "# /content/drive/MyDrive/Colab Notebooks/modelling.ipynb"
   ]
  },
  {
   "cell_type": "code",
   "execution_count": 1,
   "metadata": {
    "colab": {
     "base_uri": "https://localhost:8080/"
    },
    "executionInfo": {
     "elapsed": 28220,
     "status": "ok",
     "timestamp": 1617116893182,
     "user": {
      "displayName": "Rekha",
      "photoUrl": "https://lh3.googleusercontent.com/a-/AOh14GjNIBCD02M5fsIxMMBNm_hXgD3NRYWcBYS5kysw=s64",
      "userId": "08273852128445351703"
     },
     "user_tz": -330
    },
    "id": "ve-DI5OuMuLV",
    "outputId": "f99e0ef8-9735-4766-917f-582ee14b071c"
   },
   "outputs": [
    {
     "name": "stdout",
     "output_type": "stream",
     "text": [
      "Mounted at /content/drive\n"
     ]
    }
   ],
   "source": [
    "from google.colab import drive\n",
    "drive.mount('/content/drive')"
   ]
  },
  {
   "cell_type": "code",
   "execution_count": null,
   "metadata": {
    "colab": {
     "base_uri": "https://localhost:8080/",
     "height": 35
    },
    "executionInfo": {
     "elapsed": 1034,
     "status": "ok",
     "timestamp": 1616879653806,
     "user": {
      "displayName": "Rekha",
      "photoUrl": "https://lh3.googleusercontent.com/a-/AOh14GjNIBCD02M5fsIxMMBNm_hXgD3NRYWcBYS5kysw=s64",
      "userId": "08273852128445351703"
     },
     "user_tz": -330
    },
    "id": "pB87aHIgMz9g",
    "outputId": "27c509b4-e73a-421d-a701-9bd0097c77f8"
   },
   "outputs": [
    {
     "data": {
      "application/vnd.google.colaboratory.intrinsic+json": {
       "type": "string"
      },
      "text/plain": [
       "'/content'"
      ]
     },
     "execution_count": 2,
     "metadata": {
      "tags": []
     },
     "output_type": "execute_result"
    }
   ],
   "source": [
    "pwd"
   ]
  },
  {
   "cell_type": "code",
   "execution_count": 2,
   "metadata": {
    "colab": {
     "base_uri": "https://localhost:8080/"
    },
    "executionInfo": {
     "elapsed": 1421,
     "status": "ok",
     "timestamp": 1617116900949,
     "user": {
      "displayName": "Rekha",
      "photoUrl": "https://lh3.googleusercontent.com/a-/AOh14GjNIBCD02M5fsIxMMBNm_hXgD3NRYWcBYS5kysw=s64",
      "userId": "08273852128445351703"
     },
     "user_tz": -330
    },
    "id": "eiPU2B5eM-fn",
    "outputId": "b1ff7bcd-7905-496e-cdaa-ff4b8f102193"
   },
   "outputs": [
    {
     "name": "stdout",
     "output_type": "stream",
     "text": [
      "/content/drive/MyDrive/major_project\n"
     ]
    }
   ],
   "source": [
    "%cd /content/drive/MyDrive/major_project"
   ]
  },
  {
   "cell_type": "code",
   "execution_count": null,
   "metadata": {
    "colab": {
     "base_uri": "https://localhost:8080/",
     "height": 35
    },
    "executionInfo": {
     "elapsed": 1470,
     "status": "ok",
     "timestamp": 1616879658514,
     "user": {
      "displayName": "Rekha",
      "photoUrl": "https://lh3.googleusercontent.com/a-/AOh14GjNIBCD02M5fsIxMMBNm_hXgD3NRYWcBYS5kysw=s64",
      "userId": "08273852128445351703"
     },
     "user_tz": -330
    },
    "id": "Uu-mtYJNNCFW",
    "outputId": "cef4f7a7-abbe-46a1-902d-3ecfb15df3e7"
   },
   "outputs": [
    {
     "data": {
      "application/vnd.google.colaboratory.intrinsic+json": {
       "type": "string"
      },
      "text/plain": [
       "'/content/drive/MyDrive/major_project'"
      ]
     },
     "execution_count": 4,
     "metadata": {
      "tags": []
     },
     "output_type": "execute_result"
    }
   ],
   "source": [
    "pwd"
   ]
  },
  {
   "cell_type": "code",
   "execution_count": null,
   "metadata": {
    "colab": {
     "base_uri": "https://localhost:8080/"
    },
    "executionInfo": {
     "elapsed": 1417,
     "status": "ok",
     "timestamp": 1616879660720,
     "user": {
      "displayName": "Rekha",
      "photoUrl": "https://lh3.googleusercontent.com/a-/AOh14GjNIBCD02M5fsIxMMBNm_hXgD3NRYWcBYS5kysw=s64",
      "userId": "08273852128445351703"
     },
     "user_tz": -330
    },
    "id": "XOFwbcpDNCw2",
    "outputId": "1596deb3-a07a-4441-8587-b7413ee255b5"
   },
   "outputs": [
    {
     "name": "stdout",
     "output_type": "stream",
     "text": [
      " clean_accepted.csv\t\t\t\t    minmax_scaler.bin\n",
      " clean_rejected.csv\t\t\t\t    modelcredentials\n",
      " data\t\t\t\t\t\t    model_credentials\n",
      "\"Lending_Club's_loan_approval_optimization.csv\"     my_dir\n",
      "\"Lending_Club's_Loan_approval_optimization.ipynb\"   std_scaler.bin\n",
      " major\t\t\t\t\t\t    untitled_project\n",
      " major_project.ipynb\n"
     ]
    }
   ],
   "source": [
    "!ls"
   ]
  },
  {
   "cell_type": "code",
   "execution_count": null,
   "metadata": {
    "id": "MG5aPOnQNaVA"
   },
   "outputs": [],
   "source": [
    "import pandas as pd\n",
    "import numpy as np\n",
    "from sklearn.model_selection import train_test_split\n",
    "from sklearn.preprocessing import StandardScaler"
   ]
  },
  {
   "cell_type": "code",
   "execution_count": null,
   "metadata": {
    "id": "2ZRavsXzNDoh"
   },
   "outputs": [],
   "source": [
    "#define the data path \n",
    "path = '/content/drive/MyDrive/major_project/data/Lending_Club_Loan_approval_Optimization (1).csv'"
   ]
  },
  {
   "cell_type": "code",
   "execution_count": null,
   "metadata": {
    "id": "1825lS0iNV2J"
   },
   "outputs": [],
   "source": [
    "#read the dataset file\n",
    "df = pd.read_csv(path)"
   ]
  },
  {
   "cell_type": "code",
   "execution_count": null,
   "metadata": {
    "id": "pQ_LBQrQNe93"
   },
   "outputs": [],
   "source": [
    "df.head()"
   ]
  },
  {
   "cell_type": "code",
   "execution_count": null,
   "metadata": {
    "id": "V-ey2uFJNr3u"
   },
   "outputs": [],
   "source": [
    "df = df.drop('Unnamed: 0', axis=1)"
   ]
  },
  {
   "cell_type": "code",
   "execution_count": null,
   "metadata": {
    "id": "s2ICptH9NwGS"
   },
   "outputs": [],
   "source": [
    "df.describe()"
   ]
  },
  {
   "cell_type": "code",
   "execution_count": null,
   "metadata": {
    "colab": {
     "base_uri": "https://localhost:8080/"
    },
    "executionInfo": {
     "elapsed": 989,
     "status": "ok",
     "timestamp": 1616879691714,
     "user": {
      "displayName": "Rekha",
      "photoUrl": "https://lh3.googleusercontent.com/a-/AOh14GjNIBCD02M5fsIxMMBNm_hXgD3NRYWcBYS5kysw=s64",
      "userId": "08273852128445351703"
     },
     "user_tz": -330
    },
    "id": "ZvL4x_5ytfoF",
    "outputId": "809db05b-45d2-44a4-a00e-960fc19af98c"
   },
   "outputs": [
    {
     "data": {
      "text/plain": [
       "1    1036403\n",
       "0    1036403\n",
       "Name: Target, dtype: int64"
      ]
     },
     "execution_count": 10,
     "metadata": {
      "tags": []
     },
     "output_type": "execute_result"
    }
   ],
   "source": [
    "df.Target.value_counts()"
   ]
  },
  {
   "cell_type": "code",
   "execution_count": null,
   "metadata": {
    "colab": {
     "base_uri": "https://localhost:8080/"
    },
    "executionInfo": {
     "elapsed": 1021,
     "status": "ok",
     "timestamp": 1616879701959,
     "user": {
      "displayName": "Rekha",
      "photoUrl": "https://lh3.googleusercontent.com/a-/AOh14GjNIBCD02M5fsIxMMBNm_hXgD3NRYWcBYS5kysw=s64",
      "userId": "08273852128445351703"
     },
     "user_tz": -330
    },
    "id": "rXwj4G9eOrAD",
    "outputId": "ef4a9fc6-9806-437e-cfd5-b2c32f09dfa7"
   },
   "outputs": [
    {
     "data": {
      "text/plain": [
       "(2072806, 5)"
      ]
     },
     "execution_count": 11,
     "metadata": {
      "tags": []
     },
     "output_type": "execute_result"
    }
   ],
   "source": [
    "df.shape"
   ]
  },
  {
   "cell_type": "code",
   "execution_count": null,
   "metadata": {
    "id": "gsj9D_8lXqs3"
   },
   "outputs": [],
   "source": [
    "X = df.loc[:,['Amount Requested',\t'Risk_Score',\t'Debt-To-Income Ratio',\t'Employment Length']]"
   ]
  },
  {
   "cell_type": "code",
   "execution_count": null,
   "metadata": {
    "id": "HuLAaxi0YAgF"
   },
   "outputs": [],
   "source": [
    "Y = df.loc[:, 'Target']"
   ]
  },
  {
   "cell_type": "code",
   "execution_count": null,
   "metadata": {
    "colab": {
     "base_uri": "https://localhost:8080/"
    },
    "executionInfo": {
     "elapsed": 1435,
     "status": "ok",
     "timestamp": 1616889007902,
     "user": {
      "displayName": "Rekha",
      "photoUrl": "https://lh3.googleusercontent.com/a-/AOh14GjNIBCD02M5fsIxMMBNm_hXgD3NRYWcBYS5kysw=s64",
      "userId": "08273852128445351703"
     },
     "user_tz": -330
    },
    "id": "7kK-As9vX8_P",
    "outputId": "23b44505-81fb-4a5d-9309-b363ead68ddf"
   },
   "outputs": [
    {
     "name": "stdout",
     "output_type": "stream",
     "text": [
      "Shape of the independent dataset: (2072806, 4)\n",
      "Shape of the Target column: (2072806,)\n"
     ]
    }
   ],
   "source": [
    "print(f'Shape of the independent dataset: {X.shape}')\n",
    "print(f'Shape of the Target column: {Y.shape}')"
   ]
  },
  {
   "cell_type": "code",
   "execution_count": null,
   "metadata": {
    "id": "Ro65-eGzq2BF"
   },
   "outputs": [],
   "source": [
    "# Split the dataset into train:validation:test = 80:10:10\n",
    "X_train, X_test, y_train, y_test = train_test_split(X, Y, stratify=Y, test_size=0.1, shuffle = True, random_state = 1)"
   ]
  },
  {
   "cell_type": "code",
   "execution_count": null,
   "metadata": {
    "id": "1O_TQDyKfmGK"
   },
   "outputs": [],
   "source": [
    "X_train, X_val, y_train, y_val = train_test_split(X_train, y_train, stratify=y_train, test_size=0.111, shuffle = True, random_state = 1)"
   ]
  },
  {
   "cell_type": "code",
   "execution_count": null,
   "metadata": {
    "colab": {
     "base_uri": "https://localhost:8080/"
    },
    "executionInfo": {
     "elapsed": 1379,
     "status": "ok",
     "timestamp": 1616889327330,
     "user": {
      "displayName": "Rekha",
      "photoUrl": "https://lh3.googleusercontent.com/a-/AOh14GjNIBCD02M5fsIxMMBNm_hXgD3NRYWcBYS5kysw=s64",
      "userId": "08273852128445351703"
     },
     "user_tz": -330
    },
    "id": "omMt-th_eaHD",
    "outputId": "35a96976-7b09-454a-8cda-1e33a0e49295"
   },
   "outputs": [
    {
     "name": "stdout",
     "output_type": "stream",
     "text": [
      "Shape of the train dataset: (1658451, 4)\n",
      "Shape of the validation data: (207074, 4)\n",
      "Shape of the test dataset: (207281, 4)\n"
     ]
    }
   ],
   "source": [
    "print(f'Shape of the train dataset: {X_train.shape}')\n",
    "print(f'Shape of the validation data: {X_val.shape}')\n",
    "print(f'Shape of the test dataset: {X_test.shape}')"
   ]
  },
  {
   "cell_type": "markdown",
   "metadata": {
    "id": "-aEoGPxYi_m3"
   },
   "source": [
    "# Data normalization: StandarScaler()\n",
    "\n",
    "Standardization is a scaling technique where the values are centered around the mean with a unit standard deviation. This means that the mean of the attribute becomes zero and the resultant distribution has a unit standard deviation.\n",
    "standardization does not have a bounding range. So, even if data have outliers, they will not be affected by standardization."
   ]
  },
  {
   "cell_type": "code",
   "execution_count": null,
   "metadata": {
    "id": "5K1PboQotR3y"
   },
   "outputs": [],
   "source": [
    "scaler = StandardScaler()"
   ]
  },
  {
   "cell_type": "code",
   "execution_count": null,
   "metadata": {
    "id": "ZO0XbUS-oqyx"
   },
   "outputs": [],
   "source": [
    "df_scaled = scaler.fit_transform(X_train)"
   ]
  },
  {
   "cell_type": "code",
   "execution_count": null,
   "metadata": {
    "id": "FK14IChbpDY_"
   },
   "outputs": [],
   "source": [
    "df_scaled = pd.DataFrame(df_scaled, columns=X_train.columns)"
   ]
  },
  {
   "cell_type": "code",
   "execution_count": null,
   "metadata": {
    "id": "CYDQHTK_pKNb"
   },
   "outputs": [],
   "source": [
    "df_scaled.head()"
   ]
  },
  {
   "cell_type": "code",
   "execution_count": null,
   "metadata": {
    "id": "duF2Mi5IzxDo"
   },
   "outputs": [],
   "source": [
    "#save the standardScaler object to the std_scaler.bin file\n",
    "\n",
    "from sklearn.externals.joblib import dump, load\n",
    "dump(scaler, 'std_scaler.bin', compress=True)"
   ]
  },
  {
   "cell_type": "code",
   "execution_count": null,
   "metadata": {
    "id": "YCiQm6Tg0Ysv"
   },
   "outputs": [],
   "source": [
    "std=load('std_scaler.bin')"
   ]
  },
  {
   "cell_type": "code",
   "execution_count": null,
   "metadata": {
    "id": "N_NuCoPZ0fef"
   },
   "outputs": [],
   "source": [
    "df_val_scaled = std.transform(X_val)"
   ]
  },
  {
   "cell_type": "code",
   "execution_count": null,
   "metadata": {
    "id": "JI9oro2jJtXE"
   },
   "outputs": [],
   "source": []
  },
  {
   "cell_type": "markdown",
   "metadata": {
    "id": "BIoxyukHFFLP"
   },
   "source": [
    "# Hyperparameter tuning and Model building \n",
    "\n",
    "Each model has its own sets of parameters that need to be tuned to get optimal output. For every model, our goal is to minimize the error or say to have predictions as close as possible to actual values. This is one of the major objective of hyperparameter tuning.\n",
    "\n",
    "\n",
    "------------------------------------------------------------------------------\n",
    "\n",
    "### **Hyperparameters should be tuned**\n",
    "1. How many number of hidden layers we should have?\n",
    "2. How many number of neurons we should have in each hidden layer?\n",
    "3. Learning rate"
   ]
  },
  {
   "cell_type": "code",
   "execution_count": null,
   "metadata": {
    "id": "y13iDu0pN5xw"
   },
   "outputs": [],
   "source": [
    "import tensorflow as tf\n",
    "from tensorflow import keras\n",
    "from kerastuner.tuners import Hyperband\n",
    "from tensorflow.keras import layers"
   ]
  },
  {
   "cell_type": "code",
   "execution_count": null,
   "metadata": {
    "id": "UcZj6KxSNIV4"
   },
   "outputs": [],
   "source": [
    "'''install the keras-tuner for neural network hyperparameter tuning'''\n",
    "\n",
    "!pip install -q -U keras-tuner"
   ]
  },
  {
   "cell_type": "code",
   "execution_count": null,
   "metadata": {
    "id": "2EBV352YtSap"
   },
   "outputs": [],
   "source": [
    "print(tf.__version__)"
   ]
  },
  {
   "cell_type": "code",
   "execution_count": null,
   "metadata": {
    "id": "fnta_bhItiXB"
   },
   "outputs": [],
   "source": [
    "def build_model(hp):\n",
    "  model = keras.Sequential()\n",
    "  \n",
    "  for i in range(hp.Int('number_of_layers',2,7)):\n",
    "    model.add(\n",
    "        layers.Dense(\n",
    "            units= hp.Int(\n",
    "                'unit_'+str(i), \n",
    "                min_value = 2, \n",
    "                max_value = 100, \n",
    "                step = 32), \n",
    "                activation = 'relu'))\n",
    "  \n",
    "  model.add(layers.Dense(20, activation = 'linear'))   \n",
    "  model.add(layers.Dense(1, activation='sigmoid'))\n",
    "  \n",
    "  model.compile( \n",
    "      keras.optimizers.Adam(hp.Choice(\n",
    "          'learning_rate', [1e-2, 1e-3, 1e-4])), \n",
    "          loss='binary_crossentropy', \n",
    "          metrics=['accuracy'])\n",
    "  \n",
    "  return model"
   ]
  },
  {
   "cell_type": "code",
   "execution_count": null,
   "metadata": {
    "id": "iRcxrnlY09Uh"
   },
   "outputs": [],
   "source": [
    "tuner = Hyperband(\n",
    "    build_model,\n",
    "    objective='val_accuracy',\n",
    "    max_epochs=5,\n",
    "    hyperband_iterations=2,\n",
    "    directory='my_dir',\n",
    "    project_name='model_loan1'\n",
    "    )\n"
   ]
  },
  {
   "cell_type": "code",
   "execution_count": null,
   "metadata": {
    "id": "OSxsbEUivdBl"
   },
   "outputs": [],
   "source": [
    "tuner.search_space_summary()"
   ]
  },
  {
   "cell_type": "code",
   "execution_count": null,
   "metadata": {
    "colab": {
     "base_uri": "https://localhost:8080/"
    },
    "executionInfo": {
     "elapsed": 5955295,
     "status": "ok",
     "timestamp": 1616886099276,
     "user": {
      "displayName": "Rekha",
      "photoUrl": "https://lh3.googleusercontent.com/a-/AOh14GjNIBCD02M5fsIxMMBNm_hXgD3NRYWcBYS5kysw=s64",
      "userId": "08273852128445351703"
     },
     "user_tz": -330
    },
    "id": "iBZOoOhqDmER",
    "outputId": "4776b478-c60b-4249-e94e-a088e3e764b6"
   },
   "outputs": [
    {
     "name": "stdout",
     "output_type": "stream",
     "text": [
      "Trial 20 Complete [00h 08m 44s]\n",
      "val_accuracy: 0.8872721791267395\n",
      "\n",
      "Best val_accuracy So Far: 0.887503981590271\n",
      "Total elapsed time: 01h 39m 13s\n",
      "INFO:tensorflow:Oracle triggered exit\n"
     ]
    }
   ],
   "source": [
    "tuner.search(df_scaled, y_train,epochs = 5, validation_data = (df_val_scaled,y_val))"
   ]
  },
  {
   "cell_type": "code",
   "execution_count": null,
   "metadata": {
    "colab": {
     "base_uri": "https://localhost:8080/"
    },
    "executionInfo": {
     "elapsed": 1440,
     "status": "ok",
     "timestamp": 1616886145245,
     "user": {
      "displayName": "Rekha",
      "photoUrl": "https://lh3.googleusercontent.com/a-/AOh14GjNIBCD02M5fsIxMMBNm_hXgD3NRYWcBYS5kysw=s64",
      "userId": "08273852128445351703"
     },
     "user_tz": -330
    },
    "id": "JkPBQgV8Pu--",
    "outputId": "6b2a1eec-e516-4538-bb0c-a9fcc87e3ce9"
   },
   "outputs": [
    {
     "name": "stdout",
     "output_type": "stream",
     "text": [
      "{'number_of_layers': 3, 'unit_0': 34, 'unit_1': 34, 'learning_rate': 0.01, 'unit_2': 66, 'unit_3': 2, 'unit_4': 2, 'unit_5': 66, 'tuner/epochs': 5, 'tuner/initial_epoch': 0, 'tuner/bracket': 0, 'tuner/round': 0}\n"
     ]
    }
   ],
   "source": [
    "print(tuner.get_best_hyperparameters()[0].values)"
   ]
  },
  {
   "cell_type": "code",
   "execution_count": null,
   "metadata": {
    "id": "2W8kx-fusPle"
   },
   "outputs": [],
   "source": [
    "print(tuner.get_best_models(1)[0])"
   ]
  },
  {
   "cell_type": "code",
   "execution_count": null,
   "metadata": {
    "colab": {
     "base_uri": "https://localhost:8080/"
    },
    "executionInfo": {
     "elapsed": 1246,
     "status": "ok",
     "timestamp": 1616886338970,
     "user": {
      "displayName": "Rekha",
      "photoUrl": "https://lh3.googleusercontent.com/a-/AOh14GjNIBCD02M5fsIxMMBNm_hXgD3NRYWcBYS5kysw=s64",
      "userId": "08273852128445351703"
     },
     "user_tz": -330
    },
    "id": "r6bE-SV8v-nD",
    "outputId": "63c72c79-8c13-4e41-9a7d-4adda8a19d8e"
   },
   "outputs": [
    {
     "name": "stdout",
     "output_type": "stream",
     "text": [
      "Results summary\n",
      "Results in my_dir/model_loan1\n",
      "Showing 10 best trials\n",
      "Objective(name='val_accuracy', direction='max')\n",
      "Trial summary\n",
      "Hyperparameters:\n",
      "number_of_layers: 3\n",
      "unit_0: 34\n",
      "unit_1: 34\n",
      "learning_rate: 0.01\n",
      "unit_2: 66\n",
      "unit_3: 2\n",
      "unit_4: 2\n",
      "unit_5: 66\n",
      "tuner/epochs: 5\n",
      "tuner/initial_epoch: 0\n",
      "tuner/bracket: 0\n",
      "tuner/round: 0\n",
      "Score: 0.887503981590271\n",
      "Trial summary\n",
      "Hyperparameters:\n",
      "number_of_layers: 6\n",
      "unit_0: 34\n",
      "unit_1: 34\n",
      "learning_rate: 0.01\n",
      "unit_2: 34\n",
      "unit_3: 2\n",
      "tuner/epochs: 2\n",
      "tuner/initial_epoch: 0\n",
      "tuner/bracket: 1\n",
      "tuner/round: 0\n",
      "unit_4: 2\n",
      "unit_5: 2\n",
      "Score: 0.8873881101608276\n",
      "Trial summary\n",
      "Hyperparameters:\n",
      "number_of_layers: 4\n",
      "unit_0: 98\n",
      "unit_1: 66\n",
      "learning_rate: 0.001\n",
      "unit_2: 66\n",
      "unit_3: 34\n",
      "unit_4: 34\n",
      "unit_5: 2\n",
      "tuner/epochs: 5\n",
      "tuner/initial_epoch: 0\n",
      "tuner/bracket: 0\n",
      "tuner/round: 0\n",
      "Score: 0.8872721791267395\n",
      "Trial summary\n",
      "Hyperparameters:\n",
      "number_of_layers: 4\n",
      "unit_0: 66\n",
      "unit_1: 98\n",
      "learning_rate: 0.01\n",
      "unit_2: 2\n",
      "unit_3: 98\n",
      "unit_4: 98\n",
      "unit_5: 34\n",
      "tuner/epochs: 5\n",
      "tuner/initial_epoch: 0\n",
      "tuner/bracket: 0\n",
      "tuner/round: 0\n",
      "Score: 0.8871949315071106\n",
      "Trial summary\n",
      "Hyperparameters:\n",
      "number_of_layers: 6\n",
      "unit_0: 34\n",
      "unit_1: 34\n",
      "learning_rate: 0.01\n",
      "unit_2: 34\n",
      "unit_3: 2\n",
      "tuner/epochs: 5\n",
      "tuner/initial_epoch: 2\n",
      "tuner/bracket: 1\n",
      "tuner/round: 1\n",
      "unit_4: 2\n",
      "unit_5: 2\n",
      "tuner/trial_id: be17142b5673aa9020cba702a6cfba7f\n",
      "Score: 0.8871031403541565\n",
      "Trial summary\n",
      "Hyperparameters:\n",
      "number_of_layers: 3\n",
      "unit_0: 66\n",
      "unit_1: 98\n",
      "learning_rate: 0.01\n",
      "unit_2: 2\n",
      "unit_3: 98\n",
      "unit_4: 66\n",
      "unit_5: 34\n",
      "tuner/epochs: 5\n",
      "tuner/initial_epoch: 2\n",
      "tuner/bracket: 1\n",
      "tuner/round: 1\n",
      "tuner/trial_id: c4d43f02d4f62be8e75be63e6fa90fd2\n",
      "Score: 0.8870693445205688\n",
      "Trial summary\n",
      "Hyperparameters:\n",
      "number_of_layers: 3\n",
      "unit_0: 34\n",
      "unit_1: 66\n",
      "learning_rate: 0.01\n",
      "unit_2: 2\n",
      "unit_3: 98\n",
      "tuner/epochs: 5\n",
      "tuner/initial_epoch: 2\n",
      "tuner/bracket: 1\n",
      "tuner/round: 1\n",
      "tuner/trial_id: 69f5f173cb1f008f7c467a501b8cdd62\n",
      "Score: 0.8869438171386719\n",
      "Trial summary\n",
      "Hyperparameters:\n",
      "number_of_layers: 4\n",
      "unit_0: 98\n",
      "unit_1: 2\n",
      "learning_rate: 0.01\n",
      "unit_2: 34\n",
      "unit_3: 66\n",
      "unit_4: 34\n",
      "unit_5: 98\n",
      "tuner/epochs: 5\n",
      "tuner/initial_epoch: 0\n",
      "tuner/bracket: 0\n",
      "tuner/round: 0\n",
      "Score: 0.886871337890625\n",
      "Trial summary\n",
      "Hyperparameters:\n",
      "number_of_layers: 3\n",
      "unit_0: 34\n",
      "unit_1: 66\n",
      "learning_rate: 0.01\n",
      "unit_2: 2\n",
      "unit_3: 98\n",
      "tuner/epochs: 2\n",
      "tuner/initial_epoch: 0\n",
      "tuner/bracket: 1\n",
      "tuner/round: 0\n",
      "Score: 0.8861083388328552\n",
      "Trial summary\n",
      "Hyperparameters:\n",
      "number_of_layers: 3\n",
      "unit_0: 66\n",
      "unit_1: 98\n",
      "learning_rate: 0.01\n",
      "unit_2: 2\n",
      "unit_3: 98\n",
      "unit_4: 66\n",
      "unit_5: 34\n",
      "tuner/epochs: 2\n",
      "tuner/initial_epoch: 0\n",
      "tuner/bracket: 1\n",
      "tuner/round: 0\n",
      "Score: 0.885818600654602\n"
     ]
    }
   ],
   "source": [
    "tuner.results_summary()"
   ]
  },
  {
   "cell_type": "code",
   "execution_count": null,
   "metadata": {
    "id": "LqI-TeEU8YcO"
   },
   "outputs": [],
   "source": [
    "#get the best model from the trials\n",
    "\n",
    "model = tuner.get_best_models(1)[0]"
   ]
  },
  {
   "cell_type": "code",
   "execution_count": null,
   "metadata": {
    "colab": {
     "base_uri": "https://localhost:8080/"
    },
    "executionInfo": {
     "elapsed": 5300,
     "status": "ok",
     "timestamp": 1616890883134,
     "user": {
      "displayName": "Rekha",
      "photoUrl": "https://lh3.googleusercontent.com/a-/AOh14GjNIBCD02M5fsIxMMBNm_hXgD3NRYWcBYS5kysw=s64",
      "userId": "08273852128445351703"
     },
     "user_tz": -330
    },
    "id": "lpIjx19F-ItA",
    "outputId": "df6a47df-0ccb-468a-d86e-9c4b2780593e"
   },
   "outputs": [
    {
     "name": "stderr",
     "output_type": "stream",
     "text": [
      "/usr/local/lib/python3.7/dist-packages/tensorflow/python/keras/engine/sequential.py:450: UserWarning: `model.predict_classes()` is deprecated and will be removed after 2021-01-01. Please use instead:* `np.argmax(model.predict(x), axis=-1)`,   if your model does multi-class classification   (e.g. if it uses a `softmax` last-layer activation).* `(model.predict(x) > 0.5).astype(\"int32\")`,   if your model does binary classification   (e.g. if it uses a `sigmoid` last-layer activation).\n",
      "  warnings.warn('`model.predict_classes()` is deprecated and '\n"
     ]
    },
    {
     "name": "stdout",
     "output_type": "stream",
     "text": [
      "\n",
      "\n",
      "The Test Accuracy of the model is: 88.77900048726126 %\n"
     ]
    }
   ],
   "source": [
    "from sklearn.metrics import accuracy_score\n",
    "\n",
    "'''standardize the test data before prediction\n",
    "    and predict the result.'''\n",
    "\n",
    "df_test_scaled = std.transform(X_test)\n",
    "y_prediction = model.predict_classes(df_test_scaled)\n",
    "print(\"\\n\\nThe Test Accuracy of the model is: {} %\".format(accuracy_score(y_test, y_prediction) * 100.))"
   ]
  },
  {
   "cell_type": "code",
   "execution_count": null,
   "metadata": {
    "id": "4uHnQt7aNQTw"
   },
   "outputs": [],
   "source": []
  },
  {
   "cell_type": "markdown",
   "metadata": {
    "id": "CreIG1UVCFXB"
   },
   "source": [
    "# Save and Load the Model"
   ]
  },
  {
   "cell_type": "code",
   "execution_count": null,
   "metadata": {
    "id": "STKSEu36BRiF"
   },
   "outputs": [],
   "source": [
    "# Save the entire model to a HDF5 file.\n",
    "# The '.h5' extension indicates that the model should be saved to HDF5.\n",
    "\n",
    "model.save('my_model.h5')"
   ]
  },
  {
   "cell_type": "code",
   "execution_count": null,
   "metadata": {
    "id": "gfGdgARrBhq6"
   },
   "outputs": [],
   "source": [
    "# load the exact same model, including its weights and the optimizer\n",
    "new_model = tf.keras.models.load_model('my_model.h5')"
   ]
  },
  {
   "cell_type": "code",
   "execution_count": null,
   "metadata": {
    "colab": {
     "base_uri": "https://localhost:8080/"
    },
    "executionInfo": {
     "elapsed": 5937,
     "status": "ok",
     "timestamp": 1616891363081,
     "user": {
      "displayName": "Rekha",
      "photoUrl": "https://lh3.googleusercontent.com/a-/AOh14GjNIBCD02M5fsIxMMBNm_hXgD3NRYWcBYS5kysw=s64",
      "userId": "08273852128445351703"
     },
     "user_tz": -330
    },
    "id": "wIXINuF0BzFH",
    "outputId": "b107ae53-38af-481a-f3c9-aa09e00931d6"
   },
   "outputs": [
    {
     "name": "stderr",
     "output_type": "stream",
     "text": [
      "/usr/local/lib/python3.7/dist-packages/tensorflow/python/keras/engine/sequential.py:450: UserWarning: `model.predict_classes()` is deprecated and will be removed after 2021-01-01. Please use instead:* `np.argmax(model.predict(x), axis=-1)`,   if your model does multi-class classification   (e.g. if it uses a `softmax` last-layer activation).* `(model.predict(x) > 0.5).astype(\"int32\")`,   if your model does binary classification   (e.g. if it uses a `sigmoid` last-layer activation).\n",
      "  warnings.warn('`model.predict_classes()` is deprecated and '\n"
     ]
    },
    {
     "name": "stdout",
     "output_type": "stream",
     "text": [
      "\n",
      "\n",
      "The Test Accuracy of the model is: 88.77900048726126 %\n"
     ]
    }
   ],
   "source": [
    "#predict result and find accuracy\n",
    "y_pred = new_model.predict_classes(df_test_scaled)\n",
    "print(\"\\n\\nThe Test Accuracy of the model is: {} %\".format(accuracy_score(y_test, y_pred) * 100.)) "
   ]
  },
  {
   "cell_type": "code",
   "execution_count": null,
   "metadata": {
    "colab": {
     "base_uri": "https://localhost:8080/"
    },
    "executionInfo": {
     "elapsed": 2115,
     "status": "ok",
     "timestamp": 1616891410685,
     "user": {
      "displayName": "Rekha",
      "photoUrl": "https://lh3.googleusercontent.com/a-/AOh14GjNIBCD02M5fsIxMMBNm_hXgD3NRYWcBYS5kysw=s64",
      "userId": "08273852128445351703"
     },
     "user_tz": -330
    },
    "id": "5gIMtsp8B_KY",
    "outputId": "a402e7b6-ad2f-4361-ab64-5b5a59b5d4a9"
   },
   "outputs": [
    {
     "name": "stdout",
     "output_type": "stream",
     "text": [
      "[[ 80417  23223]\n",
      " [    36 103605]]\n",
      "\n",
      "              precision    recall  f1-score   support\n",
      "\n",
      "  Fully Paid       1.00      0.78      0.87    103640\n",
      "     Default       0.82      1.00      0.90    103641\n",
      "\n",
      "    accuracy                           0.89    207281\n",
      "   macro avg       0.91      0.89      0.89    207281\n",
      "weighted avg       0.91      0.89      0.89    207281\n",
      "\n"
     ]
    }
   ],
   "source": [
    "from sklearn.metrics import confusion_matrix\n",
    "print(confusion_matrix(y_test, y_pred))\n",
    "print()\n",
    "\n",
    "from sklearn.metrics import classification_report\n",
    "target_names = ['Fully Paid', 'Default']\n",
    "print(classification_report(y_test, y_pred, target_names=target_names))"
   ]
  },
  {
   "cell_type": "code",
   "execution_count": 1,
   "metadata": {
    "id": "t12hUlWFPPBn"
   },
   "outputs": [
    {
     "name": "stdout",
     "output_type": "stream",
     "text": [
      "0.16.0\n"
     ]
    }
   ],
   "source": [
    "import joblib\n",
    "print(joblib.__version__)"
   ]
  },
  {
   "cell_type": "code",
   "execution_count": null,
   "metadata": {},
   "outputs": [],
   "source": []
  }
 ],
 "metadata": {
  "colab": {
   "authorship_tag": "ABX9TyML8URmPyG0RiD8IqNXF2+k",
   "collapsed_sections": [],
   "name": "modelling.ipynb",
   "provenance": []
  },
  "kernelspec": {
   "display_name": "Python 3",
   "language": "python",
   "name": "python3"
  },
  "language_info": {
   "codemirror_mode": {
    "name": "ipython",
    "version": 3
   },
   "file_extension": ".py",
   "mimetype": "text/x-python",
   "name": "python",
   "nbconvert_exporter": "python",
   "pygments_lexer": "ipython3",
   "version": "3.8.3"
  }
 },
 "nbformat": 4,
 "nbformat_minor": 1
}

{
  "nbformat": 4,
  "nbformat_minor": 0,
  "metadata": {
    "colab": {
      "name": "Random Forest Implementation.ipynb",
      "provenance": [],
      "collapsed_sections": []
    },
    "kernelspec": {
      "name": "python3",
      "display_name": "Python 3"
    },
    "language_info": {
      "name": "python"
    }
  },
  "cells": [
    {
      "cell_type": "markdown",
      "metadata": {
        "id": "ZmmDPOTMgpIF"
      },
      "source": [
        "#**Implementation of Random Forest and Hyper Parameter Tuning on pre-processed Lending Club Dataset:**"
      ]
    },
    {
      "cell_type": "code",
      "metadata": {
        "id": "9JSIWiSU9ce2",
        "colab": {
          "base_uri": "https://localhost:8080/"
        },
        "outputId": "6e1dbc7f-9d9f-47a8-bcd7-5b3851df31e7"
      },
      "source": [
        "from google.colab import drive\n",
        "drive.mount('/content/drive')"
      ],
      "execution_count": 1,
      "outputs": [
        {
          "output_type": "stream",
          "text": [
            "Mounted at /content/drive\n"
          ],
          "name": "stdout"
        }
      ]
    },
    {
      "cell_type": "code",
      "metadata": {
        "id": "afgKw1O6abGh"
      },
      "source": [
        "#importing python libraries for analysis:\n",
        "\n",
        "import pandas as pd\n",
        "import numpy as np"
      ],
      "execution_count": 2,
      "outputs": []
    },
    {
      "cell_type": "code",
      "metadata": {
        "colab": {
          "base_uri": "https://localhost:8080/",
          "height": 191
        },
        "id": "tUgOk8FwbIC5",
        "outputId": "ba822c17-ac03-4d5f-d9f1-1ee1741d5aad"
      },
      "source": [
        "df_Lending_Club = pd.read_csv(\"/content/drive/MyDrive/Kaggle/Lending_Club_Loan_approval_Optimization.csv\")\n",
        "df_Lending_Club.drop(\"Unnamed: 0\", axis=1, inplace=True)\n",
        "df_Lending_Club.head()"
      ],
      "execution_count": 3,
      "outputs": [
        {
          "output_type": "execute_result",
          "data": {
            "text/html": [
              "<div>\n",
              "<style scoped>\n",
              "    .dataframe tbody tr th:only-of-type {\n",
              "        vertical-align: middle;\n",
              "    }\n",
              "\n",
              "    .dataframe tbody tr th {\n",
              "        vertical-align: top;\n",
              "    }\n",
              "\n",
              "    .dataframe thead th {\n",
              "        text-align: right;\n",
              "    }\n",
              "</style>\n",
              "<table border=\"1\" class=\"dataframe\">\n",
              "  <thead>\n",
              "    <tr style=\"text-align: right;\">\n",
              "      <th></th>\n",
              "      <th>Amount Requested</th>\n",
              "      <th>Risk_Score</th>\n",
              "      <th>Debt-To-Income Ratio</th>\n",
              "      <th>Employment Length</th>\n",
              "      <th>Target</th>\n",
              "    </tr>\n",
              "  </thead>\n",
              "  <tbody>\n",
              "    <tr>\n",
              "      <th>0</th>\n",
              "      <td>3600.0</td>\n",
              "      <td>677.0</td>\n",
              "      <td>5.91</td>\n",
              "      <td>10</td>\n",
              "      <td>1</td>\n",
              "    </tr>\n",
              "    <tr>\n",
              "      <th>1</th>\n",
              "      <td>24700.0</td>\n",
              "      <td>717.0</td>\n",
              "      <td>16.06</td>\n",
              "      <td>10</td>\n",
              "      <td>1</td>\n",
              "    </tr>\n",
              "    <tr>\n",
              "      <th>2</th>\n",
              "      <td>20000.0</td>\n",
              "      <td>697.0</td>\n",
              "      <td>10.78</td>\n",
              "      <td>10</td>\n",
              "      <td>1</td>\n",
              "    </tr>\n",
              "    <tr>\n",
              "      <th>3</th>\n",
              "      <td>10400.0</td>\n",
              "      <td>697.0</td>\n",
              "      <td>25.37</td>\n",
              "      <td>3</td>\n",
              "      <td>1</td>\n",
              "    </tr>\n",
              "    <tr>\n",
              "      <th>4</th>\n",
              "      <td>11950.0</td>\n",
              "      <td>692.0</td>\n",
              "      <td>10.20</td>\n",
              "      <td>4</td>\n",
              "      <td>1</td>\n",
              "    </tr>\n",
              "  </tbody>\n",
              "</table>\n",
              "</div>"
            ],
            "text/plain": [
              "   Amount Requested  Risk_Score  ...  Employment Length  Target\n",
              "0            3600.0       677.0  ...                 10       1\n",
              "1           24700.0       717.0  ...                 10       1\n",
              "2           20000.0       697.0  ...                 10       1\n",
              "3           10400.0       697.0  ...                  3       1\n",
              "4           11950.0       692.0  ...                  4       1\n",
              "\n",
              "[5 rows x 5 columns]"
            ]
          },
          "metadata": {
            "tags": []
          },
          "execution_count": 3
        }
      ]
    },
    {
      "cell_type": "markdown",
      "metadata": {
        "id": "Lkzkb3VOSVz3"
      },
      "source": [
        "#**Let's split the data for training and testing:**\n",
        "\n"
      ]
    },
    {
      "cell_type": "code",
      "metadata": {
        "id": "iKwFmJEMLCGt"
      },
      "source": [
        "from sklearn.model_selection import train_test_split,cross_val_predict\n",
        "\n",
        "X = df_Lending_Club.iloc[:,:-1].values\n",
        "y = df_Lending_Club.iloc[:,-1].values\n",
        "\n",
        "X_train, X_test, y_train, y_test = train_test_split(X,y,test_size=0.2,random_state=42)"
      ],
      "execution_count": 4,
      "outputs": []
    },
    {
      "cell_type": "code",
      "metadata": {
        "colab": {
          "base_uri": "https://localhost:8080/"
        },
        "id": "mKELEQhCT5gz",
        "outputId": "1b31d83d-bffe-4d9b-c0a8-f3b27ead5374"
      },
      "source": [
        "print(X_train.shape)\n",
        "print(y_train.shape)"
      ],
      "execution_count": 5,
      "outputs": [
        {
          "output_type": "stream",
          "text": [
            "(1658244, 4)\n",
            "(1658244,)\n"
          ],
          "name": "stdout"
        }
      ]
    },
    {
      "cell_type": "code",
      "metadata": {
        "colab": {
          "base_uri": "https://localhost:8080/"
        },
        "id": "xl1Z70q-Cu2f",
        "outputId": "c145581c-608a-4271-8e2d-021b63f0c474"
      },
      "source": [
        "from sklearn.ensemble import RandomForestClassifier\n",
        "\n",
        "Model_RF = RandomForestClassifier()\n",
        "Model_RF.fit(X_train, y_train)\n",
        "y_pred = Model_RF.predict(X_test)\n",
        "print(\"Accuracy score of training data {} %:\".format(Model_RF.score(X_train, y_train)*100))\n",
        "print(\"Accuracy score of testing data {} %\".format(Model_RF.score(X_test, y_test)*100))"
      ],
      "execution_count": 6,
      "outputs": [
        {
          "output_type": "stream",
          "text": [
            "Accuracy score of training data 99.33544158760714 %:\n",
            "Accuracy score of testing data 85.78306743020345 %\n"
          ],
          "name": "stdout"
        }
      ]
    },
    {
      "cell_type": "markdown",
      "metadata": {
        "id": "GzgtqPe0AVTX"
      },
      "source": [
        "#**Let's Retrain the Model by using the best parameters which is discovered from RandomizedSearchCV:**\n",
        "\n",
        "stratified : n_estimators=500, max_features=None, max_depth=6, bootstrap=True"
      ]
    },
    {
      "cell_type": "code",
      "metadata": {
        "id": "CvVAUVmNrmXn",
        "colab": {
          "base_uri": "https://localhost:8080/"
        },
        "outputId": "e38b6202-c4ea-429c-c490-28653f7c2acf"
      },
      "source": [
        "from sklearn.ensemble import RandomForestClassifier\n",
        "\n",
        "Model_RF = RandomForestClassifier(n_estimators=500, max_features=None, max_depth=6, bootstrap=True)\n",
        "Model_RF.fit(X_train, y_train)\n",
        "print(\"Accuracy score of training data {} %:\".format(Model_RF.score(X_train, y_train)*100))\n",
        "print(\"Accuracy score of testing data {} %\".format(Model_RF.score(X_test, y_test)*100))"
      ],
      "execution_count": 7,
      "outputs": [
        {
          "output_type": "stream",
          "text": [
            "Accuracy score of training data 88.80056252276505 %:\n",
            "Accuracy score of testing data 88.80577573438954 %\n"
          ],
          "name": "stdout"
        }
      ]
    },
    {
      "cell_type": "code",
      "metadata": {
        "id": "4Z-f0SUridwb"
      },
      "source": [
        "y_pred = Model_RF.predict([[35000, 750, 25, 9]])\n",
        "y_pred"
      ],
      "execution_count": null,
      "outputs": []
    },
    {
      "cell_type": "code",
      "metadata": {
        "id": "zVABnxeuiige"
      },
      "source": [
        "y_pred = Model_RF.predict([[20000, 550, 25, 6]])\n",
        "y_pred"
      ],
      "execution_count": null,
      "outputs": []
    }
  ]
}